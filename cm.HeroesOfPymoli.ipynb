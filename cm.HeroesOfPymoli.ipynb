{
 "cells": [
  {
   "cell_type": "markdown",
   "metadata": {},
   "source": [
    "### Heroes Of Pymoli Data Analysis\n",
    "* Of the 1163 active players, the vast majority are male (84%). There also exists, a smaller, but notable proportion of female players (14%).\n",
    "\n",
    "* Our peak age demographic falls between 20-24 (44.8%) with secondary groups falling between 15-19 (18.60%) and 25-29 (13.4%).  \n",
    "-----"
   ]
  },
  {
   "cell_type": "markdown",
   "metadata": {},
   "source": [
    "### Note\n",
    "* Instructions have been included for each segment. You do not have to follow them exactly, but they are included to help you think through the steps."
   ]
  },
  {
   "cell_type": "code",
   "execution_count": 2,
   "metadata": {},
   "outputs": [
    {
     "data": {
      "text/html": [
       "<div>\n",
       "<style scoped>\n",
       "    .dataframe tbody tr th:only-of-type {\n",
       "        vertical-align: middle;\n",
       "    }\n",
       "\n",
       "    .dataframe tbody tr th {\n",
       "        vertical-align: top;\n",
       "    }\n",
       "\n",
       "    .dataframe thead th {\n",
       "        text-align: right;\n",
       "    }\n",
       "</style>\n",
       "<table border=\"1\" class=\"dataframe\">\n",
       "  <thead>\n",
       "    <tr style=\"text-align: right;\">\n",
       "      <th></th>\n",
       "      <th>Purchase ID</th>\n",
       "      <th>SN</th>\n",
       "      <th>Age</th>\n",
       "      <th>Gender</th>\n",
       "      <th>Item ID</th>\n",
       "      <th>Item Name</th>\n",
       "      <th>Price</th>\n",
       "    </tr>\n",
       "  </thead>\n",
       "  <tbody>\n",
       "    <tr>\n",
       "      <th>0</th>\n",
       "      <td>0</td>\n",
       "      <td>Lisim78</td>\n",
       "      <td>20</td>\n",
       "      <td>Male</td>\n",
       "      <td>108</td>\n",
       "      <td>Extraction, Quickblade Of Trembling Hands</td>\n",
       "      <td>3.53</td>\n",
       "    </tr>\n",
       "    <tr>\n",
       "      <th>1</th>\n",
       "      <td>1</td>\n",
       "      <td>Lisovynya38</td>\n",
       "      <td>40</td>\n",
       "      <td>Male</td>\n",
       "      <td>143</td>\n",
       "      <td>Frenzied Scimitar</td>\n",
       "      <td>1.56</td>\n",
       "    </tr>\n",
       "    <tr>\n",
       "      <th>2</th>\n",
       "      <td>2</td>\n",
       "      <td>Ithergue48</td>\n",
       "      <td>24</td>\n",
       "      <td>Male</td>\n",
       "      <td>92</td>\n",
       "      <td>Final Critic</td>\n",
       "      <td>4.88</td>\n",
       "    </tr>\n",
       "    <tr>\n",
       "      <th>3</th>\n",
       "      <td>3</td>\n",
       "      <td>Chamassasya86</td>\n",
       "      <td>24</td>\n",
       "      <td>Male</td>\n",
       "      <td>100</td>\n",
       "      <td>Blindscythe</td>\n",
       "      <td>3.27</td>\n",
       "    </tr>\n",
       "    <tr>\n",
       "      <th>4</th>\n",
       "      <td>4</td>\n",
       "      <td>Iskosia90</td>\n",
       "      <td>23</td>\n",
       "      <td>Male</td>\n",
       "      <td>131</td>\n",
       "      <td>Fury</td>\n",
       "      <td>1.44</td>\n",
       "    </tr>\n",
       "  </tbody>\n",
       "</table>\n",
       "</div>"
      ],
      "text/plain": [
       "   Purchase ID             SN  Age Gender  Item ID  \\\n",
       "0            0        Lisim78   20   Male      108   \n",
       "1            1    Lisovynya38   40   Male      143   \n",
       "2            2     Ithergue48   24   Male       92   \n",
       "3            3  Chamassasya86   24   Male      100   \n",
       "4            4      Iskosia90   23   Male      131   \n",
       "\n",
       "                                   Item Name  Price  \n",
       "0  Extraction, Quickblade Of Trembling Hands   3.53  \n",
       "1                          Frenzied Scimitar   1.56  \n",
       "2                               Final Critic   4.88  \n",
       "3                                Blindscythe   3.27  \n",
       "4                                       Fury   1.44  "
      ]
     },
     "execution_count": 2,
     "metadata": {},
     "output_type": "execute_result"
    }
   ],
   "source": [
    "# Dependencies and Setup\n",
    "import pandas as pd\n",
    "import numpy as np\n",
    "\n",
    "# File to Load (Remember to Change These)\n",
    "file_to_load = 'Resources/purchase_data.csv'\n",
    "\n",
    "# Read Purchasing File and store into Pandas data frame, then peek at the first five rows\n",
    "purchase_data = pd.read_csv(file_to_load)\n",
    "purchase_data.head()"
   ]
  },
  {
   "cell_type": "markdown",
   "metadata": {},
   "source": [
    "## Player Count"
   ]
  },
  {
   "cell_type": "markdown",
   "metadata": {},
   "source": [
    "* Display the total number of players\n"
   ]
  },
  {
   "cell_type": "code",
   "execution_count": 3,
   "metadata": {},
   "outputs": [
    {
     "data": {
      "text/html": [
       "<style  type=\"text/css\" >\n",
       "</style><table id=\"T_66dca012_92f5_11e9_bec4_80c5f29e5c44\" ><thead>    <tr>        <th class=\"col_heading level0 col0\" >Total Players</th>    </tr></thead><tbody>\n",
       "                <tr>\n",
       "                                <td id=\"T_66dca012_92f5_11e9_bec4_80c5f29e5c44row0_col0\" class=\"data row0 col0\" >576</td>\n",
       "            </tr>\n",
       "    </tbody></table>"
      ],
      "text/plain": [
       "<pandas.io.formats.style.Styler at 0x268bfcdf240>"
      ]
     },
     "execution_count": 3,
     "metadata": {},
     "output_type": "execute_result"
    }
   ],
   "source": [
    "# get a count of unique players; some players have made more than one purchase\n",
    "pCount = purchase_data['SN'].nunique()\n",
    "\n",
    "# create and display a summary data frame\n",
    "summary_df1 = pd.DataFrame({'Total Players':[pCount]})\n",
    "\n",
    "#hide the index that doesn't provide any additional information\n",
    "summary_df1.style.hide_index()"
   ]
  },
  {
   "cell_type": "markdown",
   "metadata": {},
   "source": [
    "## Purchasing Analysis (Total)"
   ]
  },
  {
   "cell_type": "markdown",
   "metadata": {},
   "source": [
    "* Run basic calculations to obtain number of unique items, average price, etc.\n",
    "\n",
    "\n",
    "* Create a summary data frame to hold the results\n",
    "\n",
    "\n",
    "* Optional: give the displayed data cleaner formatting\n",
    "\n",
    "\n",
    "* Display the summary data frame\n"
   ]
  },
  {
   "cell_type": "code",
   "execution_count": 4,
   "metadata": {
    "scrolled": true
   },
   "outputs": [
    {
     "data": {
      "text/html": [
       "<style  type=\"text/css\" >\n",
       "</style><table id=\"T_66ddfdf6_92f5_11e9_bcf6_80c5f29e5c44\" ><thead>    <tr>        <th class=\"col_heading level0 col0\" >Number of Unique Items</th>        <th class=\"col_heading level0 col1\" >Average Price</th>        <th class=\"col_heading level0 col2\" >Number of Purchases</th>        <th class=\"col_heading level0 col3\" >Total Revenue</th>    </tr></thead><tbody>\n",
       "                <tr>\n",
       "                                <td id=\"T_66ddfdf6_92f5_11e9_bcf6_80c5f29e5c44row0_col0\" class=\"data row0 col0\" >183</td>\n",
       "                        <td id=\"T_66ddfdf6_92f5_11e9_bcf6_80c5f29e5c44row0_col1\" class=\"data row0 col1\" >$3.05</td>\n",
       "                        <td id=\"T_66ddfdf6_92f5_11e9_bcf6_80c5f29e5c44row0_col2\" class=\"data row0 col2\" >780</td>\n",
       "                        <td id=\"T_66ddfdf6_92f5_11e9_bcf6_80c5f29e5c44row0_col3\" class=\"data row0 col3\" >$2,379.77</td>\n",
       "            </tr>\n",
       "    </tbody></table>"
      ],
      "text/plain": [
       "<pandas.io.formats.style.Styler at 0x268c2ecfb00>"
      ]
     },
     "execution_count": 4,
     "metadata": {},
     "output_type": "execute_result"
    }
   ],
   "source": [
    "# make calculations and store values\n",
    "itemsUnique = purchase_data['Item ID'].nunique()\n",
    "priceAverage = purchase_data['Price'].mean()\n",
    "purchasesCount = purchase_data['Purchase ID'].count()\n",
    "revenueTotal = purchase_data['Price'].sum()\n",
    "\n",
    "#create a summary data frame\n",
    "summary_df2 = pd.DataFrame({'Number of Unique Items':[itemsUnique],\n",
    "                          'Average Price':[priceAverage],\n",
    "                          'Number of Purchases':[purchasesCount],\n",
    "                          'Total Revenue':[revenueTotal]})\n",
    "\n",
    "# create a formatting dictionary to format the currency values\n",
    "formatting = {'Average Price':'${:.02f}',\n",
    "            'Total Revenue':'${:,.02f}'}\n",
    "\n",
    "# display the formatted version of the summary data frame\n",
    "summary_df2.style.format(formatting).hide_index()"
   ]
  },
  {
   "cell_type": "markdown",
   "metadata": {},
   "source": [
    "## Gender Demographics"
   ]
  },
  {
   "cell_type": "markdown",
   "metadata": {},
   "source": [
    "* Percentage and Count of Male Players\n",
    "\n",
    "\n",
    "* Percentage and Count of Female Players\n",
    "\n",
    "\n",
    "* Percentage and Count of Other / Non-Disclosed\n",
    "\n",
    "\n"
   ]
  },
  {
   "cell_type": "code",
   "execution_count": 5,
   "metadata": {},
   "outputs": [
    {
     "data": {
      "text/html": [
       "<style  type=\"text/css\" >\n",
       "</style><table id=\"T_66e43bd2_92f5_11e9_8d01_80c5f29e5c44\" ><thead>    <tr>        <th class=\"blank level0\" ></th>        <th class=\"col_heading level0 col0\" >Total Count</th>        <th class=\"col_heading level0 col1\" >Percentage of Players</th>    </tr></thead><tbody>\n",
       "                <tr>\n",
       "                        <th id=\"T_66e43bd2_92f5_11e9_8d01_80c5f29e5c44level0_row0\" class=\"row_heading level0 row0\" >Male</th>\n",
       "                        <td id=\"T_66e43bd2_92f5_11e9_8d01_80c5f29e5c44row0_col0\" class=\"data row0 col0\" >484</td>\n",
       "                        <td id=\"T_66e43bd2_92f5_11e9_8d01_80c5f29e5c44row0_col1\" class=\"data row0 col1\" >84.03%</td>\n",
       "            </tr>\n",
       "            <tr>\n",
       "                        <th id=\"T_66e43bd2_92f5_11e9_8d01_80c5f29e5c44level0_row1\" class=\"row_heading level0 row1\" >Female</th>\n",
       "                        <td id=\"T_66e43bd2_92f5_11e9_8d01_80c5f29e5c44row1_col0\" class=\"data row1 col0\" >81</td>\n",
       "                        <td id=\"T_66e43bd2_92f5_11e9_8d01_80c5f29e5c44row1_col1\" class=\"data row1 col1\" >14.06%</td>\n",
       "            </tr>\n",
       "            <tr>\n",
       "                        <th id=\"T_66e43bd2_92f5_11e9_8d01_80c5f29e5c44level0_row2\" class=\"row_heading level0 row2\" >Other / Non-Disclosed</th>\n",
       "                        <td id=\"T_66e43bd2_92f5_11e9_8d01_80c5f29e5c44row2_col0\" class=\"data row2 col0\" >11</td>\n",
       "                        <td id=\"T_66e43bd2_92f5_11e9_8d01_80c5f29e5c44row2_col1\" class=\"data row2 col1\" >1.91%</td>\n",
       "            </tr>\n",
       "    </tbody></table>"
      ],
      "text/plain": [
       "<pandas.io.formats.style.Styler at 0x268bfa6dba8>"
      ]
     },
     "execution_count": 5,
     "metadata": {},
     "output_type": "execute_result"
    }
   ],
   "source": [
    "# make a new data frame of just SN and Gender, dropping any duplicate rows\n",
    "player_and_gender = purchase_data.loc[:,['SN','Gender']].drop_duplicates()\n",
    "\n",
    "# peform basic calculations on the new data frame and store the resulting series\n",
    "gCounts = player_and_gender['Gender'].value_counts()\n",
    "gFraction = gCounts/len(player_and_gender)\n",
    "\n",
    "# make a summary data frame\n",
    "summary_df3 = pd.DataFrame({'Total Count':gCounts,\n",
    "                           'Percentage of Players':gFraction})\n",
    "\n",
    "# display a formatted version of the summary data frame\n",
    "summary_df3.style.format({'Percentage of Players':'{:.2%}'})"
   ]
  },
  {
   "cell_type": "markdown",
   "metadata": {},
   "source": [
    "\n",
    "## Purchasing Analysis (Gender)"
   ]
  },
  {
   "cell_type": "markdown",
   "metadata": {},
   "source": [
    "* Run basic calculations to obtain purchase count, avg. purchase price, avg. purchase total per person etc. by gender\n",
    "\n",
    "\n",
    "\n",
    "\n",
    "* Create a summary data frame to hold the results\n",
    "\n",
    "\n",
    "* Optional: give the displayed data cleaner formatting\n",
    "\n",
    "\n",
    "* Display the summary data frame"
   ]
  },
  {
   "cell_type": "code",
   "execution_count": 6,
   "metadata": {},
   "outputs": [
    {
     "data": {
      "text/html": [
       "<style  type=\"text/css\" >\n",
       "</style><table id=\"T_66e5c086_92f5_11e9_94a7_80c5f29e5c44\" ><thead>    <tr>        <th class=\"blank level0\" ></th>        <th class=\"col_heading level0 col0\" >Purchase Count</th>        <th class=\"col_heading level0 col1\" >Average Purchase Price</th>        <th class=\"col_heading level0 col2\" >Total Purchase Value</th>        <th class=\"col_heading level0 col3\" >Avg Total Purchase per Person</th>    </tr>    <tr>        <th class=\"index_name level0\" >Gender</th>        <th class=\"blank\" ></th>        <th class=\"blank\" ></th>        <th class=\"blank\" ></th>        <th class=\"blank\" ></th>    </tr></thead><tbody>\n",
       "                <tr>\n",
       "                        <th id=\"T_66e5c086_92f5_11e9_94a7_80c5f29e5c44level0_row0\" class=\"row_heading level0 row0\" >Female</th>\n",
       "                        <td id=\"T_66e5c086_92f5_11e9_94a7_80c5f29e5c44row0_col0\" class=\"data row0 col0\" >113</td>\n",
       "                        <td id=\"T_66e5c086_92f5_11e9_94a7_80c5f29e5c44row0_col1\" class=\"data row0 col1\" >$3.20</td>\n",
       "                        <td id=\"T_66e5c086_92f5_11e9_94a7_80c5f29e5c44row0_col2\" class=\"data row0 col2\" >$361.94</td>\n",
       "                        <td id=\"T_66e5c086_92f5_11e9_94a7_80c5f29e5c44row0_col3\" class=\"data row0 col3\" >$4.47</td>\n",
       "            </tr>\n",
       "            <tr>\n",
       "                        <th id=\"T_66e5c086_92f5_11e9_94a7_80c5f29e5c44level0_row1\" class=\"row_heading level0 row1\" >Male</th>\n",
       "                        <td id=\"T_66e5c086_92f5_11e9_94a7_80c5f29e5c44row1_col0\" class=\"data row1 col0\" >652</td>\n",
       "                        <td id=\"T_66e5c086_92f5_11e9_94a7_80c5f29e5c44row1_col1\" class=\"data row1 col1\" >$3.02</td>\n",
       "                        <td id=\"T_66e5c086_92f5_11e9_94a7_80c5f29e5c44row1_col2\" class=\"data row1 col2\" >$1967.64</td>\n",
       "                        <td id=\"T_66e5c086_92f5_11e9_94a7_80c5f29e5c44row1_col3\" class=\"data row1 col3\" >$4.07</td>\n",
       "            </tr>\n",
       "            <tr>\n",
       "                        <th id=\"T_66e5c086_92f5_11e9_94a7_80c5f29e5c44level0_row2\" class=\"row_heading level0 row2\" >Other / Non-Disclosed</th>\n",
       "                        <td id=\"T_66e5c086_92f5_11e9_94a7_80c5f29e5c44row2_col0\" class=\"data row2 col0\" >15</td>\n",
       "                        <td id=\"T_66e5c086_92f5_11e9_94a7_80c5f29e5c44row2_col1\" class=\"data row2 col1\" >$3.35</td>\n",
       "                        <td id=\"T_66e5c086_92f5_11e9_94a7_80c5f29e5c44row2_col2\" class=\"data row2 col2\" >$50.19</td>\n",
       "                        <td id=\"T_66e5c086_92f5_11e9_94a7_80c5f29e5c44row2_col3\" class=\"data row2 col3\" >$4.56</td>\n",
       "            </tr>\n",
       "    </tbody></table>"
      ],
      "text/plain": [
       "<pandas.io.formats.style.Styler at 0x268c2eefda0>"
      ]
     },
     "execution_count": 6,
     "metadata": {},
     "output_type": "execute_result"
    }
   ],
   "source": [
    "# group by Gender\n",
    "gGrouped = purchase_data.groupby('Gender')\n",
    "\n",
    "# make the desired calculations and store the resulting series\n",
    "gPurCount = gGrouped['Purchase ID'].count()\n",
    "gAvgPPrice = gGrouped['Price'].mean()\n",
    "gTotPur = gGrouped['Price'].sum()\n",
    "gAvgTotPur = gTotPur/gCounts\n",
    "\n",
    "# make the summary data frame\n",
    "summary_df4 = pd.DataFrame({'Purchase Count':gPurCount,\n",
    "                           'Average Purchase Price':gAvgPPrice,\n",
    "                           'Total Purchase Value':gTotPur,\n",
    "                           'Avg Total Purchase per Person':gAvgTotPur\n",
    "                          })\n",
    "\n",
    "# make a format dictionary to format the columns that have currency values\n",
    "formatter = {'Average Purchase Price':'${:.02f}',\n",
    "             'Total Purchase Value':'${:.02f}',\n",
    "             'Avg Total Purchase per Person':'${:.02f}'}\n",
    "\n",
    "# display the formatted version of the data frame\n",
    "summary_df4.style.format(formatter)"
   ]
  },
  {
   "cell_type": "markdown",
   "metadata": {},
   "source": [
    "## Age Demographics"
   ]
  },
  {
   "cell_type": "markdown",
   "metadata": {},
   "source": [
    "* Establish bins for ages\n",
    "\n",
    "\n",
    "* Categorize the existing players using the age bins. Hint: use pd.cut()\n",
    "\n",
    "\n",
    "* Calculate the numbers and percentages by age group\n",
    "\n",
    "\n",
    "* Create a summary data frame to hold the results\n",
    "\n",
    "\n",
    "* Optional: round the percentage column to two decimal points\n",
    "\n",
    "\n",
    "* Display Age Demographics Table\n"
   ]
  },
  {
   "cell_type": "code",
   "execution_count": 7,
   "metadata": {},
   "outputs": [
    {
     "data": {
      "text/html": [
       "<style  type=\"text/css\" >\n",
       "</style><table id=\"T_66ebb0f0_92f5_11e9_a360_80c5f29e5c44\" ><thead>    <tr>        <th class=\"blank level0\" ></th>        <th class=\"col_heading level0 col0\" >Total Count</th>        <th class=\"col_heading level0 col1\" >Percentage of Players</th>    </tr></thead><tbody>\n",
       "                <tr>\n",
       "                        <th id=\"T_66ebb0f0_92f5_11e9_a360_80c5f29e5c44level0_row0\" class=\"row_heading level0 row0\" ><10</th>\n",
       "                        <td id=\"T_66ebb0f0_92f5_11e9_a360_80c5f29e5c44row0_col0\" class=\"data row0 col0\" >17</td>\n",
       "                        <td id=\"T_66ebb0f0_92f5_11e9_a360_80c5f29e5c44row0_col1\" class=\"data row0 col1\" >2.95%</td>\n",
       "            </tr>\n",
       "            <tr>\n",
       "                        <th id=\"T_66ebb0f0_92f5_11e9_a360_80c5f29e5c44level0_row1\" class=\"row_heading level0 row1\" >10-14</th>\n",
       "                        <td id=\"T_66ebb0f0_92f5_11e9_a360_80c5f29e5c44row1_col0\" class=\"data row1 col0\" >22</td>\n",
       "                        <td id=\"T_66ebb0f0_92f5_11e9_a360_80c5f29e5c44row1_col1\" class=\"data row1 col1\" >3.82%</td>\n",
       "            </tr>\n",
       "            <tr>\n",
       "                        <th id=\"T_66ebb0f0_92f5_11e9_a360_80c5f29e5c44level0_row2\" class=\"row_heading level0 row2\" >15-19</th>\n",
       "                        <td id=\"T_66ebb0f0_92f5_11e9_a360_80c5f29e5c44row2_col0\" class=\"data row2 col0\" >107</td>\n",
       "                        <td id=\"T_66ebb0f0_92f5_11e9_a360_80c5f29e5c44row2_col1\" class=\"data row2 col1\" >18.58%</td>\n",
       "            </tr>\n",
       "            <tr>\n",
       "                        <th id=\"T_66ebb0f0_92f5_11e9_a360_80c5f29e5c44level0_row3\" class=\"row_heading level0 row3\" >20-24</th>\n",
       "                        <td id=\"T_66ebb0f0_92f5_11e9_a360_80c5f29e5c44row3_col0\" class=\"data row3 col0\" >258</td>\n",
       "                        <td id=\"T_66ebb0f0_92f5_11e9_a360_80c5f29e5c44row3_col1\" class=\"data row3 col1\" >44.79%</td>\n",
       "            </tr>\n",
       "            <tr>\n",
       "                        <th id=\"T_66ebb0f0_92f5_11e9_a360_80c5f29e5c44level0_row4\" class=\"row_heading level0 row4\" >25-29</th>\n",
       "                        <td id=\"T_66ebb0f0_92f5_11e9_a360_80c5f29e5c44row4_col0\" class=\"data row4 col0\" >77</td>\n",
       "                        <td id=\"T_66ebb0f0_92f5_11e9_a360_80c5f29e5c44row4_col1\" class=\"data row4 col1\" >13.37%</td>\n",
       "            </tr>\n",
       "            <tr>\n",
       "                        <th id=\"T_66ebb0f0_92f5_11e9_a360_80c5f29e5c44level0_row5\" class=\"row_heading level0 row5\" >30-34</th>\n",
       "                        <td id=\"T_66ebb0f0_92f5_11e9_a360_80c5f29e5c44row5_col0\" class=\"data row5 col0\" >52</td>\n",
       "                        <td id=\"T_66ebb0f0_92f5_11e9_a360_80c5f29e5c44row5_col1\" class=\"data row5 col1\" >9.03%</td>\n",
       "            </tr>\n",
       "            <tr>\n",
       "                        <th id=\"T_66ebb0f0_92f5_11e9_a360_80c5f29e5c44level0_row6\" class=\"row_heading level0 row6\" >35-39</th>\n",
       "                        <td id=\"T_66ebb0f0_92f5_11e9_a360_80c5f29e5c44row6_col0\" class=\"data row6 col0\" >31</td>\n",
       "                        <td id=\"T_66ebb0f0_92f5_11e9_a360_80c5f29e5c44row6_col1\" class=\"data row6 col1\" >5.38%</td>\n",
       "            </tr>\n",
       "            <tr>\n",
       "                        <th id=\"T_66ebb0f0_92f5_11e9_a360_80c5f29e5c44level0_row7\" class=\"row_heading level0 row7\" >40+</th>\n",
       "                        <td id=\"T_66ebb0f0_92f5_11e9_a360_80c5f29e5c44row7_col0\" class=\"data row7 col0\" >12</td>\n",
       "                        <td id=\"T_66ebb0f0_92f5_11e9_a360_80c5f29e5c44row7_col1\" class=\"data row7 col1\" >2.08%</td>\n",
       "            </tr>\n",
       "    </tbody></table>"
      ],
      "text/plain": [
       "<pandas.io.formats.style.Styler at 0x268c2f05a20>"
      ]
     },
     "execution_count": 7,
     "metadata": {},
     "output_type": "execute_result"
    }
   ],
   "source": [
    "# make a new data frame of just SN and Age, dropping any duplicate rows\n",
    "player_and_age = purchase_data.loc[:,['SN','Age']].drop_duplicates()\n",
    "\n",
    "# make bins and labels\n",
    "bins = [0,9,14,19,24,29,34,39,200]\n",
    "labels = ['<10','10-14','15-19','20-24','25-29','30-34','35-39','40+']\n",
    "\n",
    "# add the column w/bins\n",
    "player_and_age['Age Bin'] = pd.cut(player_and_age['Age'],bins,labels=labels)\n",
    "\n",
    "# peform basic calculations and store the resulting series\n",
    "aCounts = player_and_age['Age Bin'].value_counts()\n",
    "aFraction = aCounts/len(player_and_age)\n",
    "\n",
    "# make a summary data frame\n",
    "summary_df5 = pd.DataFrame({'Total Count':aCounts,\n",
    "                           'Percentage of Players':aFraction})\n",
    "\n",
    "# need to resort by the bin labels/index\n",
    "sorted_df5 = summary_df5.sort_index()\n",
    "\n",
    "# display a formatted version of the sorted summary data frame\n",
    "sorted_df5.style.format({'Percentage of Players':'{:.2%}'})"
   ]
  },
  {
   "cell_type": "markdown",
   "metadata": {},
   "source": [
    "## Purchasing Analysis (Age)"
   ]
  },
  {
   "cell_type": "markdown",
   "metadata": {},
   "source": [
    "* Bin the purchase_data data frame by age\n",
    "\n",
    "\n",
    "* Run basic calculations to obtain purchase count, avg. purchase price, avg. purchase total per person etc. in the table below\n",
    "\n",
    "\n",
    "* Create a summary data frame to hold the results\n",
    "\n",
    "\n",
    "* Optional: give the displayed data cleaner formatting\n",
    "\n",
    "\n",
    "* Display the summary data frame"
   ]
  },
  {
   "cell_type": "code",
   "execution_count": 8,
   "metadata": {},
   "outputs": [
    {
     "data": {
      "text/html": [
       "<style  type=\"text/css\" >\n",
       "</style><table id=\"T_66efcbc6_92f5_11e9_9188_80c5f29e5c44\" ><thead>    <tr>        <th class=\"blank level0\" ></th>        <th class=\"col_heading level0 col0\" >Purchase Count</th>        <th class=\"col_heading level0 col1\" >Average Purchase Price</th>        <th class=\"col_heading level0 col2\" >Total Purchase Value</th>        <th class=\"col_heading level0 col3\" >Avg Total Purchase per Person</th>    </tr></thead><tbody>\n",
       "                <tr>\n",
       "                        <th id=\"T_66efcbc6_92f5_11e9_9188_80c5f29e5c44level0_row0\" class=\"row_heading level0 row0\" ><10</th>\n",
       "                        <td id=\"T_66efcbc6_92f5_11e9_9188_80c5f29e5c44row0_col0\" class=\"data row0 col0\" >23</td>\n",
       "                        <td id=\"T_66efcbc6_92f5_11e9_9188_80c5f29e5c44row0_col1\" class=\"data row0 col1\" >$3.35</td>\n",
       "                        <td id=\"T_66efcbc6_92f5_11e9_9188_80c5f29e5c44row0_col2\" class=\"data row0 col2\" >$77.13</td>\n",
       "                        <td id=\"T_66efcbc6_92f5_11e9_9188_80c5f29e5c44row0_col3\" class=\"data row0 col3\" >$4.54</td>\n",
       "            </tr>\n",
       "            <tr>\n",
       "                        <th id=\"T_66efcbc6_92f5_11e9_9188_80c5f29e5c44level0_row1\" class=\"row_heading level0 row1\" >10-14</th>\n",
       "                        <td id=\"T_66efcbc6_92f5_11e9_9188_80c5f29e5c44row1_col0\" class=\"data row1 col0\" >28</td>\n",
       "                        <td id=\"T_66efcbc6_92f5_11e9_9188_80c5f29e5c44row1_col1\" class=\"data row1 col1\" >$2.96</td>\n",
       "                        <td id=\"T_66efcbc6_92f5_11e9_9188_80c5f29e5c44row1_col2\" class=\"data row1 col2\" >$82.78</td>\n",
       "                        <td id=\"T_66efcbc6_92f5_11e9_9188_80c5f29e5c44row1_col3\" class=\"data row1 col3\" >$3.76</td>\n",
       "            </tr>\n",
       "            <tr>\n",
       "                        <th id=\"T_66efcbc6_92f5_11e9_9188_80c5f29e5c44level0_row2\" class=\"row_heading level0 row2\" >15-19</th>\n",
       "                        <td id=\"T_66efcbc6_92f5_11e9_9188_80c5f29e5c44row2_col0\" class=\"data row2 col0\" >136</td>\n",
       "                        <td id=\"T_66efcbc6_92f5_11e9_9188_80c5f29e5c44row2_col1\" class=\"data row2 col1\" >$3.04</td>\n",
       "                        <td id=\"T_66efcbc6_92f5_11e9_9188_80c5f29e5c44row2_col2\" class=\"data row2 col2\" >$412.89</td>\n",
       "                        <td id=\"T_66efcbc6_92f5_11e9_9188_80c5f29e5c44row2_col3\" class=\"data row2 col3\" >$3.86</td>\n",
       "            </tr>\n",
       "            <tr>\n",
       "                        <th id=\"T_66efcbc6_92f5_11e9_9188_80c5f29e5c44level0_row3\" class=\"row_heading level0 row3\" >20-24</th>\n",
       "                        <td id=\"T_66efcbc6_92f5_11e9_9188_80c5f29e5c44row3_col0\" class=\"data row3 col0\" >365</td>\n",
       "                        <td id=\"T_66efcbc6_92f5_11e9_9188_80c5f29e5c44row3_col1\" class=\"data row3 col1\" >$3.05</td>\n",
       "                        <td id=\"T_66efcbc6_92f5_11e9_9188_80c5f29e5c44row3_col2\" class=\"data row3 col2\" >$1114.06</td>\n",
       "                        <td id=\"T_66efcbc6_92f5_11e9_9188_80c5f29e5c44row3_col3\" class=\"data row3 col3\" >$4.32</td>\n",
       "            </tr>\n",
       "            <tr>\n",
       "                        <th id=\"T_66efcbc6_92f5_11e9_9188_80c5f29e5c44level0_row4\" class=\"row_heading level0 row4\" >25-29</th>\n",
       "                        <td id=\"T_66efcbc6_92f5_11e9_9188_80c5f29e5c44row4_col0\" class=\"data row4 col0\" >101</td>\n",
       "                        <td id=\"T_66efcbc6_92f5_11e9_9188_80c5f29e5c44row4_col1\" class=\"data row4 col1\" >$2.90</td>\n",
       "                        <td id=\"T_66efcbc6_92f5_11e9_9188_80c5f29e5c44row4_col2\" class=\"data row4 col2\" >$293.00</td>\n",
       "                        <td id=\"T_66efcbc6_92f5_11e9_9188_80c5f29e5c44row4_col3\" class=\"data row4 col3\" >$3.81</td>\n",
       "            </tr>\n",
       "            <tr>\n",
       "                        <th id=\"T_66efcbc6_92f5_11e9_9188_80c5f29e5c44level0_row5\" class=\"row_heading level0 row5\" >30-34</th>\n",
       "                        <td id=\"T_66efcbc6_92f5_11e9_9188_80c5f29e5c44row5_col0\" class=\"data row5 col0\" >73</td>\n",
       "                        <td id=\"T_66efcbc6_92f5_11e9_9188_80c5f29e5c44row5_col1\" class=\"data row5 col1\" >$2.93</td>\n",
       "                        <td id=\"T_66efcbc6_92f5_11e9_9188_80c5f29e5c44row5_col2\" class=\"data row5 col2\" >$214.00</td>\n",
       "                        <td id=\"T_66efcbc6_92f5_11e9_9188_80c5f29e5c44row5_col3\" class=\"data row5 col3\" >$4.12</td>\n",
       "            </tr>\n",
       "            <tr>\n",
       "                        <th id=\"T_66efcbc6_92f5_11e9_9188_80c5f29e5c44level0_row6\" class=\"row_heading level0 row6\" >35-39</th>\n",
       "                        <td id=\"T_66efcbc6_92f5_11e9_9188_80c5f29e5c44row6_col0\" class=\"data row6 col0\" >41</td>\n",
       "                        <td id=\"T_66efcbc6_92f5_11e9_9188_80c5f29e5c44row6_col1\" class=\"data row6 col1\" >$3.60</td>\n",
       "                        <td id=\"T_66efcbc6_92f5_11e9_9188_80c5f29e5c44row6_col2\" class=\"data row6 col2\" >$147.67</td>\n",
       "                        <td id=\"T_66efcbc6_92f5_11e9_9188_80c5f29e5c44row6_col3\" class=\"data row6 col3\" >$4.76</td>\n",
       "            </tr>\n",
       "            <tr>\n",
       "                        <th id=\"T_66efcbc6_92f5_11e9_9188_80c5f29e5c44level0_row7\" class=\"row_heading level0 row7\" >40+</th>\n",
       "                        <td id=\"T_66efcbc6_92f5_11e9_9188_80c5f29e5c44row7_col0\" class=\"data row7 col0\" >13</td>\n",
       "                        <td id=\"T_66efcbc6_92f5_11e9_9188_80c5f29e5c44row7_col1\" class=\"data row7 col1\" >$2.94</td>\n",
       "                        <td id=\"T_66efcbc6_92f5_11e9_9188_80c5f29e5c44row7_col2\" class=\"data row7 col2\" >$38.24</td>\n",
       "                        <td id=\"T_66efcbc6_92f5_11e9_9188_80c5f29e5c44row7_col3\" class=\"data row7 col3\" >$3.19</td>\n",
       "            </tr>\n",
       "    </tbody></table>"
      ],
      "text/plain": [
       "<pandas.io.formats.style.Styler at 0x268c2f160f0>"
      ]
     },
     "execution_count": 8,
     "metadata": {},
     "output_type": "execute_result"
    }
   ],
   "source": [
    "# make bins and labels\n",
    "bins = [0,9,14,19,24,29,34,39,200]\n",
    "labels = ['<10','10-14','15-19','20-24','25-29','30-34','35-39','40+']\n",
    "\n",
    "# add the column w/bins\n",
    "purchase_data['Age Bin'] = pd.cut(purchase_data['Age'],bins,labels=labels)\n",
    "\n",
    "# group by age bin\n",
    "aGrouped = purchase_data.groupby('Age Bin')\n",
    "\n",
    "# make the desired calculations and store the resulting series\n",
    "aPurCount = aGrouped['Purchase ID'].count()\n",
    "aAvgPPrice = aGrouped['Price'].mean()\n",
    "aTotPur = aGrouped['Price'].sum()\n",
    "aAvgTotPur = aTotPur/aCounts\n",
    "\n",
    "# make the summary data frame\n",
    "summary_df6 = pd.DataFrame({'Purchase Count':aPurCount,\n",
    "                           'Average Purchase Price':aAvgPPrice,\n",
    "                           'Total Purchase Value':aTotPur,\n",
    "                           'Avg Total Purchase per Person':aAvgTotPur\n",
    "                          })\n",
    "\n",
    "# need to sort by the bin labels/index\n",
    "sorted_df6 = summary_df6.sort_index()\n",
    "\n",
    "# make a format dictionary to format the columns that have currency values\n",
    "formatter6 = {'Average Purchase Price':'${:.02f}',\n",
    "             'Total Purchase Value':'${:.02f}',\n",
    "             'Avg Total Purchase per Person':'${:.02f}'}\n",
    "\n",
    "# display the formatted version of the data frame\n",
    "sorted_df6.style.format(formatter6)"
   ]
  },
  {
   "cell_type": "markdown",
   "metadata": {},
   "source": [
    "## Top Spenders"
   ]
  },
  {
   "cell_type": "markdown",
   "metadata": {},
   "source": [
    "* Run basic calculations to obtain the results in the table below\n",
    "\n",
    "\n",
    "* Create a summary data frame to hold the results\n",
    "\n",
    "\n",
    "* Sort the total purchase value column in descending order\n",
    "\n",
    "\n",
    "* Optional: give the displayed data cleaner formatting\n",
    "\n",
    "\n",
    "* Display a preview of the summary data frame\n",
    "\n"
   ]
  },
  {
   "cell_type": "code",
   "execution_count": 9,
   "metadata": {},
   "outputs": [
    {
     "data": {
      "text/html": [
       "<style  type=\"text/css\" >\n",
       "</style><table id=\"T_66f19f48_92f5_11e9_88ff_80c5f29e5c44\" ><thead>    <tr>        <th class=\"blank level0\" ></th>        <th class=\"col_heading level0 col0\" >Purchase Count</th>        <th class=\"col_heading level0 col1\" >Average Purchase Price</th>        <th class=\"col_heading level0 col2\" >Total Purchase Value</th>    </tr>    <tr>        <th class=\"index_name level0\" >SN</th>        <th class=\"blank\" ></th>        <th class=\"blank\" ></th>        <th class=\"blank\" ></th>    </tr></thead><tbody>\n",
       "                <tr>\n",
       "                        <th id=\"T_66f19f48_92f5_11e9_88ff_80c5f29e5c44level0_row0\" class=\"row_heading level0 row0\" >Lisosia93</th>\n",
       "                        <td id=\"T_66f19f48_92f5_11e9_88ff_80c5f29e5c44row0_col0\" class=\"data row0 col0\" >5</td>\n",
       "                        <td id=\"T_66f19f48_92f5_11e9_88ff_80c5f29e5c44row0_col1\" class=\"data row0 col1\" >$3.79</td>\n",
       "                        <td id=\"T_66f19f48_92f5_11e9_88ff_80c5f29e5c44row0_col2\" class=\"data row0 col2\" >$18.96</td>\n",
       "            </tr>\n",
       "            <tr>\n",
       "                        <th id=\"T_66f19f48_92f5_11e9_88ff_80c5f29e5c44level0_row1\" class=\"row_heading level0 row1\" >Idastidru52</th>\n",
       "                        <td id=\"T_66f19f48_92f5_11e9_88ff_80c5f29e5c44row1_col0\" class=\"data row1 col0\" >4</td>\n",
       "                        <td id=\"T_66f19f48_92f5_11e9_88ff_80c5f29e5c44row1_col1\" class=\"data row1 col1\" >$3.86</td>\n",
       "                        <td id=\"T_66f19f48_92f5_11e9_88ff_80c5f29e5c44row1_col2\" class=\"data row1 col2\" >$15.45</td>\n",
       "            </tr>\n",
       "            <tr>\n",
       "                        <th id=\"T_66f19f48_92f5_11e9_88ff_80c5f29e5c44level0_row2\" class=\"row_heading level0 row2\" >Chamjask73</th>\n",
       "                        <td id=\"T_66f19f48_92f5_11e9_88ff_80c5f29e5c44row2_col0\" class=\"data row2 col0\" >3</td>\n",
       "                        <td id=\"T_66f19f48_92f5_11e9_88ff_80c5f29e5c44row2_col1\" class=\"data row2 col1\" >$4.61</td>\n",
       "                        <td id=\"T_66f19f48_92f5_11e9_88ff_80c5f29e5c44row2_col2\" class=\"data row2 col2\" >$13.83</td>\n",
       "            </tr>\n",
       "            <tr>\n",
       "                        <th id=\"T_66f19f48_92f5_11e9_88ff_80c5f29e5c44level0_row3\" class=\"row_heading level0 row3\" >Iral74</th>\n",
       "                        <td id=\"T_66f19f48_92f5_11e9_88ff_80c5f29e5c44row3_col0\" class=\"data row3 col0\" >4</td>\n",
       "                        <td id=\"T_66f19f48_92f5_11e9_88ff_80c5f29e5c44row3_col1\" class=\"data row3 col1\" >$3.40</td>\n",
       "                        <td id=\"T_66f19f48_92f5_11e9_88ff_80c5f29e5c44row3_col2\" class=\"data row3 col2\" >$13.62</td>\n",
       "            </tr>\n",
       "            <tr>\n",
       "                        <th id=\"T_66f19f48_92f5_11e9_88ff_80c5f29e5c44level0_row4\" class=\"row_heading level0 row4\" >Iskadarya95</th>\n",
       "                        <td id=\"T_66f19f48_92f5_11e9_88ff_80c5f29e5c44row4_col0\" class=\"data row4 col0\" >3</td>\n",
       "                        <td id=\"T_66f19f48_92f5_11e9_88ff_80c5f29e5c44row4_col1\" class=\"data row4 col1\" >$4.37</td>\n",
       "                        <td id=\"T_66f19f48_92f5_11e9_88ff_80c5f29e5c44row4_col2\" class=\"data row4 col2\" >$13.10</td>\n",
       "            </tr>\n",
       "    </tbody></table>"
      ],
      "text/plain": [
       "<pandas.io.formats.style.Styler at 0x268c2e47160>"
      ]
     },
     "execution_count": 9,
     "metadata": {},
     "output_type": "execute_result"
    }
   ],
   "source": [
    "# group by username\n",
    "nGrouped = purchase_data.groupby('SN')\n",
    "\n",
    "# make the desired calculations and store the resulting series\n",
    "nPurCount = nGrouped['Purchase ID'].count()\n",
    "nAvgPPrice = nGrouped['Price'].mean()\n",
    "nTotPur = nGrouped['Price'].sum()\n",
    "\n",
    "# make the summary data frame\n",
    "summary_df7 = pd.DataFrame({'Purchase Count':nPurCount,\n",
    "                           'Average Purchase Price':nAvgPPrice,\n",
    "                           'Total Purchase Value':nTotPur\n",
    "                          })\n",
    "\n",
    "# sort by total purchase value\n",
    "sorted_df7 = summary_df7.sort_values('Total Purchase Value',ascending = False)\n",
    "\n",
    "# make a format dictionary to format the columns that have currency values\n",
    "formatter7 = {'Average Purchase Price':'${:.02f}',\n",
    "             'Total Purchase Value':'${:.02f}'}\n",
    "\n",
    "# display the first five rows of the sorted, formatted version of the data frame\n",
    "sorted_df7.head().style.format(formatter7)\n"
   ]
  },
  {
   "cell_type": "markdown",
   "metadata": {},
   "source": [
    "## Most Popular Items"
   ]
  },
  {
   "cell_type": "markdown",
   "metadata": {},
   "source": [
    "* Retrieve the Item ID, Item Name, and Item Price columns\n",
    "\n",
    "\n",
    "* Group by Item ID and Item Name. Perform calculations to obtain purchase count, item price, and total purchase value\n",
    "\n",
    "\n",
    "* Create a summary data frame to hold the results\n",
    "\n",
    "\n",
    "* Sort the purchase count column in descending order\n",
    "\n",
    "\n",
    "* Optional: give the displayed data cleaner formatting\n",
    "\n",
    "\n",
    "* Display a preview of the summary data frame\n",
    "\n"
   ]
  },
  {
   "cell_type": "code",
   "execution_count": 10,
   "metadata": {},
   "outputs": [
    {
     "data": {
      "text/html": [
       "<style  type=\"text/css\" >\n",
       "</style><table id=\"T_66f3c0a6_92f5_11e9_a203_80c5f29e5c44\" ><thead>    <tr>        <th class=\"blank\" ></th>        <th class=\"blank level0\" ></th>        <th class=\"col_heading level0 col0\" >Purchase Count</th>        <th class=\"col_heading level0 col1\" >Item Price</th>        <th class=\"col_heading level0 col2\" >Total Purchase Value</th>    </tr>    <tr>        <th class=\"index_name level0\" >Item ID</th>        <th class=\"index_name level1\" >Item Name</th>        <th class=\"blank\" ></th>        <th class=\"blank\" ></th>        <th class=\"blank\" ></th>    </tr></thead><tbody>\n",
       "                <tr>\n",
       "                        <th id=\"T_66f3c0a6_92f5_11e9_a203_80c5f29e5c44level0_row0\" class=\"row_heading level0 row0\" >178</th>\n",
       "                        <th id=\"T_66f3c0a6_92f5_11e9_a203_80c5f29e5c44level1_row0\" class=\"row_heading level1 row0\" >Oathbreaker, Last Hope of the Breaking Storm</th>\n",
       "                        <td id=\"T_66f3c0a6_92f5_11e9_a203_80c5f29e5c44row0_col0\" class=\"data row0 col0\" >12</td>\n",
       "                        <td id=\"T_66f3c0a6_92f5_11e9_a203_80c5f29e5c44row0_col1\" class=\"data row0 col1\" >$4.23</td>\n",
       "                        <td id=\"T_66f3c0a6_92f5_11e9_a203_80c5f29e5c44row0_col2\" class=\"data row0 col2\" >$50.76</td>\n",
       "            </tr>\n",
       "            <tr>\n",
       "                        <th id=\"T_66f3c0a6_92f5_11e9_a203_80c5f29e5c44level0_row1\" class=\"row_heading level0 row1\" >145</th>\n",
       "                        <th id=\"T_66f3c0a6_92f5_11e9_a203_80c5f29e5c44level1_row1\" class=\"row_heading level1 row1\" >Fiery Glass Crusader</th>\n",
       "                        <td id=\"T_66f3c0a6_92f5_11e9_a203_80c5f29e5c44row1_col0\" class=\"data row1 col0\" >9</td>\n",
       "                        <td id=\"T_66f3c0a6_92f5_11e9_a203_80c5f29e5c44row1_col1\" class=\"data row1 col1\" >$4.58</td>\n",
       "                        <td id=\"T_66f3c0a6_92f5_11e9_a203_80c5f29e5c44row1_col2\" class=\"data row1 col2\" >$41.22</td>\n",
       "            </tr>\n",
       "            <tr>\n",
       "                        <th id=\"T_66f3c0a6_92f5_11e9_a203_80c5f29e5c44level0_row2\" class=\"row_heading level0 row2\" >108</th>\n",
       "                        <th id=\"T_66f3c0a6_92f5_11e9_a203_80c5f29e5c44level1_row2\" class=\"row_heading level1 row2\" >Extraction, Quickblade Of Trembling Hands</th>\n",
       "                        <td id=\"T_66f3c0a6_92f5_11e9_a203_80c5f29e5c44row2_col0\" class=\"data row2 col0\" >9</td>\n",
       "                        <td id=\"T_66f3c0a6_92f5_11e9_a203_80c5f29e5c44row2_col1\" class=\"data row2 col1\" >$3.53</td>\n",
       "                        <td id=\"T_66f3c0a6_92f5_11e9_a203_80c5f29e5c44row2_col2\" class=\"data row2 col2\" >$31.77</td>\n",
       "            </tr>\n",
       "            <tr>\n",
       "                        <th id=\"T_66f3c0a6_92f5_11e9_a203_80c5f29e5c44level0_row3\" class=\"row_heading level0 row3\" >82</th>\n",
       "                        <th id=\"T_66f3c0a6_92f5_11e9_a203_80c5f29e5c44level1_row3\" class=\"row_heading level1 row3\" >Nirvana</th>\n",
       "                        <td id=\"T_66f3c0a6_92f5_11e9_a203_80c5f29e5c44row3_col0\" class=\"data row3 col0\" >9</td>\n",
       "                        <td id=\"T_66f3c0a6_92f5_11e9_a203_80c5f29e5c44row3_col1\" class=\"data row3 col1\" >$4.90</td>\n",
       "                        <td id=\"T_66f3c0a6_92f5_11e9_a203_80c5f29e5c44row3_col2\" class=\"data row3 col2\" >$44.10</td>\n",
       "            </tr>\n",
       "            <tr>\n",
       "                        <th id=\"T_66f3c0a6_92f5_11e9_a203_80c5f29e5c44level0_row4\" class=\"row_heading level0 row4\" >19</th>\n",
       "                        <th id=\"T_66f3c0a6_92f5_11e9_a203_80c5f29e5c44level1_row4\" class=\"row_heading level1 row4\" >Pursuit, Cudgel of Necromancy</th>\n",
       "                        <td id=\"T_66f3c0a6_92f5_11e9_a203_80c5f29e5c44row4_col0\" class=\"data row4 col0\" >8</td>\n",
       "                        <td id=\"T_66f3c0a6_92f5_11e9_a203_80c5f29e5c44row4_col1\" class=\"data row4 col1\" >$1.02</td>\n",
       "                        <td id=\"T_66f3c0a6_92f5_11e9_a203_80c5f29e5c44row4_col2\" class=\"data row4 col2\" >$8.16</td>\n",
       "            </tr>\n",
       "    </tbody></table>"
      ],
      "text/plain": [
       "<pandas.io.formats.style.Styler at 0x268c2f167f0>"
      ]
     },
     "execution_count": 10,
     "metadata": {},
     "output_type": "execute_result"
    }
   ],
   "source": [
    "# make the new data frame with a slice of columns\n",
    "item_df = purchase_data.iloc[:,4:7]\n",
    "\n",
    "# group by two columns, though they're just different flavors of the same information\n",
    "iGrouped = item_df.groupby(['Item ID','Item Name'])\n",
    "\n",
    "# make calculations and store the resulting series\n",
    "iPurCount = iGrouped['Price'].count()\n",
    "# I'm using a function to get price values in a series. There's only one price value in a group, so min, first, etc. would also work.\n",
    "iPrice =  iGrouped['Price'].max()\n",
    "iTotPur = iPurCount * iPrice\n",
    "\n",
    "summary_df8 = pd.DataFrame({'Purchase Count':iPurCount,\n",
    "                         'Item Price':iPrice,\n",
    "                         'Total Purchase Value':iTotPur})\n",
    "\n",
    "# sort by purchase count\n",
    "sorted_df8 = summary_df8.sort_values('Purchase Count',ascending = False)\n",
    "\n",
    "# make a format dictionary to format the columns that have currency values\n",
    "formatter8 = {'Item Price':'${:.02f}',\n",
    "             'Total Purchase Value':'${:.02f}'}\n",
    "\n",
    "# display the first five rows of the sorted, formatted version of the data frame\n",
    "sorted_df8.head().style.format(formatter8)"
   ]
  },
  {
   "cell_type": "markdown",
   "metadata": {},
   "source": [
    "## Most Profitable Items"
   ]
  },
  {
   "cell_type": "markdown",
   "metadata": {},
   "source": [
    "* Sort the above table by total purchase value in descending order\n",
    "\n",
    "\n",
    "* Optional: give the displayed data cleaner formatting\n",
    "\n",
    "\n",
    "* Display a preview of the data frame\n",
    "\n"
   ]
  },
  {
   "cell_type": "code",
   "execution_count": 11,
   "metadata": {
    "scrolled": true
   },
   "outputs": [
    {
     "data": {
      "text/html": [
       "<style  type=\"text/css\" >\n",
       "</style><table id=\"T_6742689a_92f5_11e9_ab38_80c5f29e5c44\" ><thead>    <tr>        <th class=\"blank\" ></th>        <th class=\"blank level0\" ></th>        <th class=\"col_heading level0 col0\" >Purchase Count</th>        <th class=\"col_heading level0 col1\" >Item Price</th>        <th class=\"col_heading level0 col2\" >Total Purchase Value</th>    </tr>    <tr>        <th class=\"index_name level0\" >Item ID</th>        <th class=\"index_name level1\" >Item Name</th>        <th class=\"blank\" ></th>        <th class=\"blank\" ></th>        <th class=\"blank\" ></th>    </tr></thead><tbody>\n",
       "                <tr>\n",
       "                        <th id=\"T_6742689a_92f5_11e9_ab38_80c5f29e5c44level0_row0\" class=\"row_heading level0 row0\" >178</th>\n",
       "                        <th id=\"T_6742689a_92f5_11e9_ab38_80c5f29e5c44level1_row0\" class=\"row_heading level1 row0\" >Oathbreaker, Last Hope of the Breaking Storm</th>\n",
       "                        <td id=\"T_6742689a_92f5_11e9_ab38_80c5f29e5c44row0_col0\" class=\"data row0 col0\" >12</td>\n",
       "                        <td id=\"T_6742689a_92f5_11e9_ab38_80c5f29e5c44row0_col1\" class=\"data row0 col1\" >$4.23</td>\n",
       "                        <td id=\"T_6742689a_92f5_11e9_ab38_80c5f29e5c44row0_col2\" class=\"data row0 col2\" >$50.76</td>\n",
       "            </tr>\n",
       "            <tr>\n",
       "                        <th id=\"T_6742689a_92f5_11e9_ab38_80c5f29e5c44level0_row1\" class=\"row_heading level0 row1\" >82</th>\n",
       "                        <th id=\"T_6742689a_92f5_11e9_ab38_80c5f29e5c44level1_row1\" class=\"row_heading level1 row1\" >Nirvana</th>\n",
       "                        <td id=\"T_6742689a_92f5_11e9_ab38_80c5f29e5c44row1_col0\" class=\"data row1 col0\" >9</td>\n",
       "                        <td id=\"T_6742689a_92f5_11e9_ab38_80c5f29e5c44row1_col1\" class=\"data row1 col1\" >$4.90</td>\n",
       "                        <td id=\"T_6742689a_92f5_11e9_ab38_80c5f29e5c44row1_col2\" class=\"data row1 col2\" >$44.10</td>\n",
       "            </tr>\n",
       "            <tr>\n",
       "                        <th id=\"T_6742689a_92f5_11e9_ab38_80c5f29e5c44level0_row2\" class=\"row_heading level0 row2\" >145</th>\n",
       "                        <th id=\"T_6742689a_92f5_11e9_ab38_80c5f29e5c44level1_row2\" class=\"row_heading level1 row2\" >Fiery Glass Crusader</th>\n",
       "                        <td id=\"T_6742689a_92f5_11e9_ab38_80c5f29e5c44row2_col0\" class=\"data row2 col0\" >9</td>\n",
       "                        <td id=\"T_6742689a_92f5_11e9_ab38_80c5f29e5c44row2_col1\" class=\"data row2 col1\" >$4.58</td>\n",
       "                        <td id=\"T_6742689a_92f5_11e9_ab38_80c5f29e5c44row2_col2\" class=\"data row2 col2\" >$41.22</td>\n",
       "            </tr>\n",
       "            <tr>\n",
       "                        <th id=\"T_6742689a_92f5_11e9_ab38_80c5f29e5c44level0_row3\" class=\"row_heading level0 row3\" >92</th>\n",
       "                        <th id=\"T_6742689a_92f5_11e9_ab38_80c5f29e5c44level1_row3\" class=\"row_heading level1 row3\" >Final Critic</th>\n",
       "                        <td id=\"T_6742689a_92f5_11e9_ab38_80c5f29e5c44row3_col0\" class=\"data row3 col0\" >8</td>\n",
       "                        <td id=\"T_6742689a_92f5_11e9_ab38_80c5f29e5c44row3_col1\" class=\"data row3 col1\" >$4.88</td>\n",
       "                        <td id=\"T_6742689a_92f5_11e9_ab38_80c5f29e5c44row3_col2\" class=\"data row3 col2\" >$39.04</td>\n",
       "            </tr>\n",
       "            <tr>\n",
       "                        <th id=\"T_6742689a_92f5_11e9_ab38_80c5f29e5c44level0_row4\" class=\"row_heading level0 row4\" >103</th>\n",
       "                        <th id=\"T_6742689a_92f5_11e9_ab38_80c5f29e5c44level1_row4\" class=\"row_heading level1 row4\" >Singed Scalpel</th>\n",
       "                        <td id=\"T_6742689a_92f5_11e9_ab38_80c5f29e5c44row4_col0\" class=\"data row4 col0\" >8</td>\n",
       "                        <td id=\"T_6742689a_92f5_11e9_ab38_80c5f29e5c44row4_col1\" class=\"data row4 col1\" >$4.35</td>\n",
       "                        <td id=\"T_6742689a_92f5_11e9_ab38_80c5f29e5c44row4_col2\" class=\"data row4 col2\" >$34.80</td>\n",
       "            </tr>\n",
       "    </tbody></table>"
      ],
      "text/plain": [
       "<pandas.io.formats.style.Styler at 0x268c2f05240>"
      ]
     },
     "execution_count": 11,
     "metadata": {},
     "output_type": "execute_result"
    }
   ],
   "source": [
    "# sort previous data frame by total purchase value\n",
    "sorted_df9 = summary_df8.sort_values('Total Purchase Value',ascending = False)\n",
    "\n",
    "# display the first five rows, using previous formatting\n",
    "sorted_df9.head().style.format(formatter8)"
   ]
  },
  {
   "cell_type": "markdown",
   "metadata": {},
   "source": [
    "# Additional analyses..."
   ]
  },
  {
   "cell_type": "code",
   "execution_count": 45,
   "metadata": {},
   "outputs": [
    {
     "data": {
      "text/html": [
       "<style  type=\"text/css\" >\n",
       "</style><table id=\"T_621a4a40_92f9_11e9_9d32_80c5f29e5c44\" ><thead>    <tr>        <th class=\"col_heading level0 col0\" ># of Purchases</th>        <th class=\"col_heading level0 col1\" >Count of Players</th>        <th class=\"col_heading level0 col2\" >% of Players</th>    </tr></thead><tbody>\n",
       "                <tr>\n",
       "                                <td id=\"T_621a4a40_92f9_11e9_9d32_80c5f29e5c44row0_col0\" class=\"data row0 col0\" >5</td>\n",
       "                        <td id=\"T_621a4a40_92f9_11e9_9d32_80c5f29e5c44row0_col1\" class=\"data row0 col1\" >1</td>\n",
       "                        <td id=\"T_621a4a40_92f9_11e9_9d32_80c5f29e5c44row0_col2\" class=\"data row0 col2\" >0.17%</td>\n",
       "            </tr>\n",
       "            <tr>\n",
       "                                <td id=\"T_621a4a40_92f9_11e9_9d32_80c5f29e5c44row1_col0\" class=\"data row1 col0\" >4</td>\n",
       "                        <td id=\"T_621a4a40_92f9_11e9_9d32_80c5f29e5c44row1_col1\" class=\"data row1 col1\" >2</td>\n",
       "                        <td id=\"T_621a4a40_92f9_11e9_9d32_80c5f29e5c44row1_col2\" class=\"data row1 col2\" >0.35%</td>\n",
       "            </tr>\n",
       "            <tr>\n",
       "                                <td id=\"T_621a4a40_92f9_11e9_9d32_80c5f29e5c44row2_col0\" class=\"data row2 col0\" >3</td>\n",
       "                        <td id=\"T_621a4a40_92f9_11e9_9d32_80c5f29e5c44row2_col1\" class=\"data row2 col1\" >35</td>\n",
       "                        <td id=\"T_621a4a40_92f9_11e9_9d32_80c5f29e5c44row2_col2\" class=\"data row2 col2\" >6.08%</td>\n",
       "            </tr>\n",
       "            <tr>\n",
       "                                <td id=\"T_621a4a40_92f9_11e9_9d32_80c5f29e5c44row3_col0\" class=\"data row3 col0\" >2</td>\n",
       "                        <td id=\"T_621a4a40_92f9_11e9_9d32_80c5f29e5c44row3_col1\" class=\"data row3 col1\" >124</td>\n",
       "                        <td id=\"T_621a4a40_92f9_11e9_9d32_80c5f29e5c44row3_col2\" class=\"data row3 col2\" >21.53%</td>\n",
       "            </tr>\n",
       "            <tr>\n",
       "                                <td id=\"T_621a4a40_92f9_11e9_9d32_80c5f29e5c44row4_col0\" class=\"data row4 col0\" >1</td>\n",
       "                        <td id=\"T_621a4a40_92f9_11e9_9d32_80c5f29e5c44row4_col1\" class=\"data row4 col1\" >414</td>\n",
       "                        <td id=\"T_621a4a40_92f9_11e9_9d32_80c5f29e5c44row4_col2\" class=\"data row4 col2\" >71.88%</td>\n",
       "            </tr>\n",
       "    </tbody></table>"
      ],
      "text/plain": [
       "<pandas.io.formats.style.Styler at 0x268c31646a0>"
      ]
     },
     "execution_count": 45,
     "metadata": {},
     "output_type": "execute_result"
    }
   ],
   "source": [
    "# examine the frequency of purchases by user (results below)\n",
    "\n",
    "# fewer than 7% of users made more than two purchase, suggesting that users aren't seeing \n",
    "# game-playing value in their purchases. So make the items more useful in gameplay.\n",
    "\n",
    "purRepeat = summary_df7['Purchase Count'].value_counts()\n",
    "pctRepeat = purRepeat/pCount\n",
    "\n",
    "# make a summary data frame\n",
    "summary_df10 = pd.DataFrame({'# of Purchases':purRepeat.index,\n",
    "                             'Count of Players':purRepeat,\n",
    "                           '% of Players':pctRepeat}).sort_values(['# of Purchases'],ascending = False)\n",
    "\n",
    "# display a formatted version of the summary data frame\n",
    "summary_df10.style.format({'% of Players':'{:.2%}'}).hide_index()\n",
    "\n",
    "\n"
   ]
  },
  {
   "cell_type": "code",
   "execution_count": 46,
   "metadata": {},
   "outputs": [
    {
     "data": {
      "text/html": [
       "<style  type=\"text/css\" >\n",
       "</style><table id=\"T_9bb79e38_92f9_11e9_92d1_80c5f29e5c44\" ><thead>    <tr>        <th class=\"col_heading level0 col0\" >Count of Purchases</th>        <th class=\"col_heading level0 col1\" ># of Items</th>        <th class=\"col_heading level0 col2\" >% of Purchases</th>    </tr></thead><tbody>\n",
       "                <tr>\n",
       "                                <td id=\"T_9bb79e38_92f9_11e9_92d1_80c5f29e5c44row0_col0\" class=\"data row0 col0\" >12</td>\n",
       "                        <td id=\"T_9bb79e38_92f9_11e9_92d1_80c5f29e5c44row0_col1\" class=\"data row0 col1\" >1</td>\n",
       "                        <td id=\"T_9bb79e38_92f9_11e9_92d1_80c5f29e5c44row0_col2\" class=\"data row0 col2\" >0.55%</td>\n",
       "            </tr>\n",
       "            <tr>\n",
       "                                <td id=\"T_9bb79e38_92f9_11e9_92d1_80c5f29e5c44row1_col0\" class=\"data row1 col0\" >9</td>\n",
       "                        <td id=\"T_9bb79e38_92f9_11e9_92d1_80c5f29e5c44row1_col1\" class=\"data row1 col1\" >3</td>\n",
       "                        <td id=\"T_9bb79e38_92f9_11e9_92d1_80c5f29e5c44row1_col2\" class=\"data row1 col2\" >1.64%</td>\n",
       "            </tr>\n",
       "            <tr>\n",
       "                                <td id=\"T_9bb79e38_92f9_11e9_92d1_80c5f29e5c44row2_col0\" class=\"data row2 col0\" >8</td>\n",
       "                        <td id=\"T_9bb79e38_92f9_11e9_92d1_80c5f29e5c44row2_col1\" class=\"data row2 col1\" >9</td>\n",
       "                        <td id=\"T_9bb79e38_92f9_11e9_92d1_80c5f29e5c44row2_col2\" class=\"data row2 col2\" >4.92%</td>\n",
       "            </tr>\n",
       "            <tr>\n",
       "                                <td id=\"T_9bb79e38_92f9_11e9_92d1_80c5f29e5c44row3_col0\" class=\"data row3 col0\" >7</td>\n",
       "                        <td id=\"T_9bb79e38_92f9_11e9_92d1_80c5f29e5c44row3_col1\" class=\"data row3 col1\" >10</td>\n",
       "                        <td id=\"T_9bb79e38_92f9_11e9_92d1_80c5f29e5c44row3_col2\" class=\"data row3 col2\" >5.46%</td>\n",
       "            </tr>\n",
       "            <tr>\n",
       "                                <td id=\"T_9bb79e38_92f9_11e9_92d1_80c5f29e5c44row4_col0\" class=\"data row4 col0\" >6</td>\n",
       "                        <td id=\"T_9bb79e38_92f9_11e9_92d1_80c5f29e5c44row4_col1\" class=\"data row4 col1\" >17</td>\n",
       "                        <td id=\"T_9bb79e38_92f9_11e9_92d1_80c5f29e5c44row4_col2\" class=\"data row4 col2\" >9.29%</td>\n",
       "            </tr>\n",
       "            <tr>\n",
       "                                <td id=\"T_9bb79e38_92f9_11e9_92d1_80c5f29e5c44row5_col0\" class=\"data row5 col0\" >5</td>\n",
       "                        <td id=\"T_9bb79e38_92f9_11e9_92d1_80c5f29e5c44row5_col1\" class=\"data row5 col1\" >37</td>\n",
       "                        <td id=\"T_9bb79e38_92f9_11e9_92d1_80c5f29e5c44row5_col2\" class=\"data row5 col2\" >20.22%</td>\n",
       "            </tr>\n",
       "            <tr>\n",
       "                                <td id=\"T_9bb79e38_92f9_11e9_92d1_80c5f29e5c44row6_col0\" class=\"data row6 col0\" >4</td>\n",
       "                        <td id=\"T_9bb79e38_92f9_11e9_92d1_80c5f29e5c44row6_col1\" class=\"data row6 col1\" >41</td>\n",
       "                        <td id=\"T_9bb79e38_92f9_11e9_92d1_80c5f29e5c44row6_col2\" class=\"data row6 col2\" >22.40%</td>\n",
       "            </tr>\n",
       "            <tr>\n",
       "                                <td id=\"T_9bb79e38_92f9_11e9_92d1_80c5f29e5c44row7_col0\" class=\"data row7 col0\" >3</td>\n",
       "                        <td id=\"T_9bb79e38_92f9_11e9_92d1_80c5f29e5c44row7_col1\" class=\"data row7 col1\" >30</td>\n",
       "                        <td id=\"T_9bb79e38_92f9_11e9_92d1_80c5f29e5c44row7_col2\" class=\"data row7 col2\" >16.39%</td>\n",
       "            </tr>\n",
       "            <tr>\n",
       "                                <td id=\"T_9bb79e38_92f9_11e9_92d1_80c5f29e5c44row8_col0\" class=\"data row8 col0\" >2</td>\n",
       "                        <td id=\"T_9bb79e38_92f9_11e9_92d1_80c5f29e5c44row8_col1\" class=\"data row8 col1\" >23</td>\n",
       "                        <td id=\"T_9bb79e38_92f9_11e9_92d1_80c5f29e5c44row8_col2\" class=\"data row8 col2\" >12.57%</td>\n",
       "            </tr>\n",
       "            <tr>\n",
       "                                <td id=\"T_9bb79e38_92f9_11e9_92d1_80c5f29e5c44row9_col0\" class=\"data row9 col0\" >1</td>\n",
       "                        <td id=\"T_9bb79e38_92f9_11e9_92d1_80c5f29e5c44row9_col1\" class=\"data row9 col1\" >12</td>\n",
       "                        <td id=\"T_9bb79e38_92f9_11e9_92d1_80c5f29e5c44row9_col2\" class=\"data row9 col2\" >6.56%</td>\n",
       "            </tr>\n",
       "    </tbody></table>"
      ],
      "text/plain": [
       "<pandas.io.formats.style.Styler at 0x268c32e9358>"
      ]
     },
     "execution_count": 46,
     "metadata": {},
     "output_type": "execute_result"
    }
   ],
   "source": [
    "# examine the frequency of item purchases (results below)\n",
    "\n",
    "# almost 20% of the items are purchased two or fewer times.\n",
    "# replace some of these poor-performing times with new items.\n",
    "\n",
    "ipurRepeat = summary_df8['Purchase Count'].value_counts()\n",
    "ipctRepeat = ipurRepeat/itemsUnique\n",
    "\n",
    "# make a summary data frame\n",
    "summary_df10 = pd.DataFrame({'Count of Purchases':ipurRepeat.index, \n",
    "                             '# of Items':ipurRepeat,     \n",
    "                           '% of Purchases':ipctRepeat}).sort_values(['Count of Purchases'],ascending = False)\n",
    "\n",
    "# display a formatted version of the summary data frame\n",
    "summary_df10.style.format({'% of Purchases':'{:.2%}'}).hide_index()\n"
   ]
  }
 ],
 "metadata": {
  "anaconda-cloud": {},
  "kernel_info": {
   "name": "python3"
  },
  "kernelspec": {
   "display_name": "Python 3",
   "language": "python",
   "name": "python3"
  },
  "language_info": {
   "codemirror_mode": {
    "name": "ipython",
    "version": 3
   },
   "file_extension": ".py",
   "mimetype": "text/x-python",
   "name": "python",
   "nbconvert_exporter": "python",
   "pygments_lexer": "ipython3",
   "version": "3.6.8"
  },
  "nteract": {
   "version": "0.2.0"
  }
 },
 "nbformat": 4,
 "nbformat_minor": 2
}
